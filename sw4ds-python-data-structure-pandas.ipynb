{
 "cells": [
  {
   "cell_type": "markdown",
   "metadata": {},
   "source": [
    "# 판다스(pandas)\n",
    "\n",
    "판다스는 R에서 영감을 받아 개발된 데이터프레임 자료구조를 파이썬에 구현한 것이다.\n",
    "**판다스(pandas)**는 넘파이(numpy)를 기반으로 데이터프레임을 파이썬에 구현한 자료구조다."
   ]
  },
  {
   "cell_type": "markdown",
   "metadata": {},
   "source": [
    "# 판다스 기초\n",
    "\n",
    "[Jay Alammar, \"A Gentle Visual Intro to Data Analysis in Python Using Pandas\"](https://jalammar.github.io/gentle-visual-intro-to-data-analysis-python-pandas/)을 바탕으로 판다스에서 데이터프레임을 처리하는 기본기를 익혀보자\n",
    "\n",
    "## `.csv` 파일 읽어오기\n",
    "\n",
    "다음과 같이 csv 파일을 준비하고 읽어온다.\n",
    "\n",
    "Artists, Genre, Listeners, Plays <br>\n",
    "Billie Holiday, Jazz, 1300000, 27000000 <br>\n",
    "Jimi Hendrix, Rock, 2700000, 70000000 <br>\n",
    "Miles Davis, Jazz, 1500000, 48000000 <br>\n",
    "SIA, Pop, 2000000, 74000000\n"
   ]
  },
  {
   "cell_type": "code",
   "execution_count": 21,
   "metadata": {
    "scrolled": true
   },
   "outputs": [
    {
     "data": {
      "text/html": [
       "<div>\n",
       "<table border=\"1\" class=\"dataframe\">\n",
       "  <thead>\n",
       "    <tr style=\"text-align: right;\">\n",
       "      <th></th>\n",
       "      <th>Artists</th>\n",
       "      <th>Genre</th>\n",
       "      <th>Listeners</th>\n",
       "      <th>Plays</th>\n",
       "    </tr>\n",
       "  </thead>\n",
       "  <tbody>\n",
       "    <tr>\n",
       "      <th>0</th>\n",
       "      <td>BillieHoliday</td>\n",
       "      <td>Jazz</td>\n",
       "      <td>1300000</td>\n",
       "      <td>27000000</td>\n",
       "    </tr>\n",
       "    <tr>\n",
       "      <th>1</th>\n",
       "      <td>JimiHendrix</td>\n",
       "      <td>Rock</td>\n",
       "      <td>2700000</td>\n",
       "      <td>70000000</td>\n",
       "    </tr>\n",
       "    <tr>\n",
       "      <th>2</th>\n",
       "      <td>MilesDavis</td>\n",
       "      <td>Jazz</td>\n",
       "      <td>1500000</td>\n",
       "      <td>48000000</td>\n",
       "    </tr>\n",
       "    <tr>\n",
       "      <th>3</th>\n",
       "      <td>SIA</td>\n",
       "      <td>Pop</td>\n",
       "      <td>2000000</td>\n",
       "      <td>74000000</td>\n",
       "    </tr>\n",
       "  </tbody>\n",
       "</table>\n",
       "</div>"
      ],
      "text/plain": [
       "         Artists Genre  Listeners     Plays\n",
       "0  BillieHoliday  Jazz    1300000  27000000\n",
       "1    JimiHendrix  Rock    2700000  70000000\n",
       "2     MilesDavis  Jazz    1500000  48000000\n",
       "3            SIA   Pop    2000000  74000000"
      ]
     },
     "execution_count": 21,
     "metadata": {},
     "output_type": "execute_result"
    }
   ],
   "source": [
    "import pandas as pd\n",
    "\n",
    "df = pd.read_csv(\"data/music.csv\", delimiter=',', encoding=\"utf-8-sig\")\n",
    "df"
   ]
  },
  {
   "cell_type": "markdown",
   "metadata": {},
   "source": [
    "## 선택 - 행,열"
   ]
  },
  {
   "cell_type": "code",
   "execution_count": 22,
   "metadata": {
    "scrolled": false
   },
   "outputs": [
    {
     "data": {
      "text/plain": [
       "0    BillieHoliday\n",
       "1      JimiHendrix\n",
       "2       MilesDavis\n",
       "3              SIA\n",
       "Name: Artists, dtype: object"
      ]
     },
     "execution_count": 22,
     "metadata": {},
     "output_type": "execute_result"
    }
   ],
   "source": [
    "df['Artists']"
   ]
  },
  {
   "cell_type": "code",
   "execution_count": 23,
   "metadata": {},
   "outputs": [
    {
     "data": {
      "text/html": [
       "<div>\n",
       "<table border=\"1\" class=\"dataframe\">\n",
       "  <thead>\n",
       "    <tr style=\"text-align: right;\">\n",
       "      <th></th>\n",
       "      <th>Artists</th>\n",
       "      <th>Genre</th>\n",
       "      <th>Listeners</th>\n",
       "      <th>Plays</th>\n",
       "    </tr>\n",
       "  </thead>\n",
       "  <tbody>\n",
       "    <tr>\n",
       "      <th>1</th>\n",
       "      <td>JimiHendrix</td>\n",
       "      <td>Rock</td>\n",
       "      <td>2700000</td>\n",
       "      <td>70000000</td>\n",
       "    </tr>\n",
       "    <tr>\n",
       "      <th>2</th>\n",
       "      <td>MilesDavis</td>\n",
       "      <td>Jazz</td>\n",
       "      <td>1500000</td>\n",
       "      <td>48000000</td>\n",
       "    </tr>\n",
       "  </tbody>\n",
       "</table>\n",
       "</div>"
      ],
      "text/plain": [
       "       Artists Genre  Listeners     Plays\n",
       "1  JimiHendrix  Rock    2700000  70000000\n",
       "2   MilesDavis  Jazz    1500000  48000000"
      ]
     },
     "execution_count": 23,
     "metadata": {},
     "output_type": "execute_result"
    }
   ],
   "source": [
    "df[1:3]"
   ]
  },
  {
   "cell_type": "markdown",
   "metadata": {},
   "source": [
    "`.loc`를 사용해서 행과 열을 선택할 수 있다."
   ]
  },
  {
   "cell_type": "code",
   "execution_count": 24,
   "metadata": {
    "scrolled": true
   },
   "outputs": [
    {
     "data": {
      "text/html": [
       "<div>\n",
       "<table border=\"1\" class=\"dataframe\">\n",
       "  <thead>\n",
       "    <tr style=\"text-align: right;\">\n",
       "      <th></th>\n",
       "      <th>Artists</th>\n",
       "    </tr>\n",
       "  </thead>\n",
       "  <tbody>\n",
       "    <tr>\n",
       "      <th>1</th>\n",
       "      <td>JimiHendrix</td>\n",
       "    </tr>\n",
       "    <tr>\n",
       "      <th>2</th>\n",
       "      <td>MilesDavis</td>\n",
       "    </tr>\n",
       "    <tr>\n",
       "      <th>3</th>\n",
       "      <td>SIA</td>\n",
       "    </tr>\n",
       "  </tbody>\n",
       "</table>\n",
       "</div>"
      ],
      "text/plain": [
       "       Artists\n",
       "1  JimiHendrix\n",
       "2   MilesDavis\n",
       "3          SIA"
      ]
     },
     "execution_count": 24,
     "metadata": {},
     "output_type": "execute_result"
    }
   ],
   "source": [
    "df.loc[1:3, ['Artists']]"
   ]
  },
  {
   "cell_type": "markdown",
   "metadata": {},
   "source": [
    "## 필터링\n",
    "\n",
    "특정 조건을 만족하는 행만 추출하는 것이 필요한 경우 부울 마스크(mask)를 생성시켜 데이터프레임에서 특정 조건을 만족하는 행만 추출시킨다."
   ]
  },
  {
   "cell_type": "code",
   "execution_count": 25,
   "metadata": {
    "scrolled": true
   },
   "outputs": [
    {
     "data": {
      "text/html": [
       "<div>\n",
       "<table border=\"1\" class=\"dataframe\">\n",
       "  <thead>\n",
       "    <tr style=\"text-align: right;\">\n",
       "      <th></th>\n",
       "      <th>Artists</th>\n",
       "      <th>Genre</th>\n",
       "      <th>Listeners</th>\n",
       "      <th>Plays</th>\n",
       "    </tr>\n",
       "  </thead>\n",
       "  <tbody>\n",
       "    <tr>\n",
       "      <th>0</th>\n",
       "      <td>BillieHoliday</td>\n",
       "      <td>Jazz</td>\n",
       "      <td>1300000</td>\n",
       "      <td>27000000</td>\n",
       "    </tr>\n",
       "    <tr>\n",
       "      <th>2</th>\n",
       "      <td>MilesDavis</td>\n",
       "      <td>Jazz</td>\n",
       "      <td>1500000</td>\n",
       "      <td>48000000</td>\n",
       "    </tr>\n",
       "  </tbody>\n",
       "</table>\n",
       "</div>"
      ],
      "text/plain": [
       "         Artists Genre  Listeners     Plays\n",
       "0  BillieHoliday  Jazz    1300000  27000000\n",
       "2     MilesDavis  Jazz    1500000  48000000"
      ]
     },
     "execution_count": 25,
     "metadata": {},
     "output_type": "execute_result"
    }
   ],
   "source": [
    "df[df[\"Genre\"] == \"Jazz\"]"
   ]
  },
  {
   "cell_type": "code",
   "execution_count": 32,
   "metadata": {
    "scrolled": true
   },
   "outputs": [
    {
     "data": {
      "text/html": [
       "<div>\n",
       "<table border=\"1\" class=\"dataframe\">\n",
       "  <thead>\n",
       "    <tr style=\"text-align: right;\">\n",
       "      <th></th>\n",
       "      <th>Artists</th>\n",
       "      <th>Genre</th>\n",
       "      <th>Listeners</th>\n",
       "      <th>Plays</th>\n",
       "      <th>Avg Plays</th>\n",
       "    </tr>\n",
       "  </thead>\n",
       "  <tbody>\n",
       "    <tr>\n",
       "      <th>1</th>\n",
       "      <td>JimiHendrix</td>\n",
       "      <td>Rock</td>\n",
       "      <td>2700000</td>\n",
       "      <td>70000000</td>\n",
       "      <td>25.925926</td>\n",
       "    </tr>\n",
       "    <tr>\n",
       "      <th>3</th>\n",
       "      <td>SIA</td>\n",
       "      <td>Pop</td>\n",
       "      <td>2000000</td>\n",
       "      <td>74000000</td>\n",
       "      <td>37.000000</td>\n",
       "    </tr>\n",
       "  </tbody>\n",
       "</table>\n",
       "</div>"
      ],
      "text/plain": [
       "       Artists Genre  Listeners     Plays  Avg Plays\n",
       "1  JimiHendrix  Rock    2700000  70000000  25.925926\n",
       "3          SIA   Pop    2000000  74000000  37.000000"
      ]
     },
     "execution_count": 32,
     "metadata": {},
     "output_type": "execute_result"
    }
   ],
   "source": [
    "df[df['Listeners'] > 1800000]"
   ]
  },
  {
   "cell_type": "markdown",
   "metadata": {},
   "source": [
    "## 결측값 처리"
   ]
  },
  {
   "cell_type": "code",
   "execution_count": 38,
   "metadata": {
    "scrolled": true
   },
   "outputs": [
    {
     "data": {
      "text/html": [
       "<div>\n",
       "<table border=\"1\" class=\"dataframe\">\n",
       "  <thead>\n",
       "    <tr style=\"text-align: right;\">\n",
       "      <th></th>\n",
       "      <th>Artists</th>\n",
       "      <th>Genre</th>\n",
       "      <th>Listeners</th>\n",
       "      <th>Plays</th>\n",
       "      <th>Avg Plays</th>\n",
       "    </tr>\n",
       "  </thead>\n",
       "  <tbody>\n",
       "    <tr>\n",
       "      <th>0</th>\n",
       "      <td>BillieHoliday</td>\n",
       "      <td>Jazz</td>\n",
       "      <td>1300000</td>\n",
       "      <td>27000000.0</td>\n",
       "      <td>20.769231</td>\n",
       "    </tr>\n",
       "    <tr>\n",
       "      <th>1</th>\n",
       "      <td>JimiHendrix</td>\n",
       "      <td>Rock</td>\n",
       "      <td>2700000</td>\n",
       "      <td>NaN</td>\n",
       "      <td>25.925926</td>\n",
       "    </tr>\n",
       "    <tr>\n",
       "      <th>2</th>\n",
       "      <td>MilesDavis</td>\n",
       "      <td>Jazz</td>\n",
       "      <td>1500000</td>\n",
       "      <td>48000000.0</td>\n",
       "      <td>32.000000</td>\n",
       "    </tr>\n",
       "    <tr>\n",
       "      <th>3</th>\n",
       "      <td>SIA</td>\n",
       "      <td>Pop</td>\n",
       "      <td>2000000</td>\n",
       "      <td>74000000.0</td>\n",
       "      <td>37.000000</td>\n",
       "    </tr>\n",
       "  </tbody>\n",
       "</table>\n",
       "</div>"
      ],
      "text/plain": [
       "         Artists Genre  Listeners       Plays  Avg Plays\n",
       "0  BillieHoliday  Jazz    1300000  27000000.0  20.769231\n",
       "1    JimiHendrix  Rock    2700000         NaN  25.925926\n",
       "2     MilesDavis  Jazz    1500000  48000000.0  32.000000\n",
       "3            SIA   Pop    2000000  74000000.0  37.000000"
      ]
     },
     "execution_count": 38,
     "metadata": {},
     "output_type": "execute_result"
    }
   ],
   "source": [
    "import numpy as np\n",
    "\n",
    "df.loc[1, [\"Plays\"]] = np.nan\n",
    "df"
   ]
  },
  {
   "cell_type": "code",
   "execution_count": 39,
   "metadata": {
    "scrolled": true
   },
   "outputs": [
    {
     "data": {
      "text/html": [
       "<div>\n",
       "<table border=\"1\" class=\"dataframe\">\n",
       "  <thead>\n",
       "    <tr style=\"text-align: right;\">\n",
       "      <th></th>\n",
       "      <th>Artists</th>\n",
       "      <th>Genre</th>\n",
       "      <th>Listeners</th>\n",
       "      <th>Plays</th>\n",
       "      <th>Avg Plays</th>\n",
       "    </tr>\n",
       "  </thead>\n",
       "  <tbody>\n",
       "    <tr>\n",
       "      <th>0</th>\n",
       "      <td>BillieHoliday</td>\n",
       "      <td>Jazz</td>\n",
       "      <td>1300000</td>\n",
       "      <td>27000000.0</td>\n",
       "      <td>20.769231</td>\n",
       "    </tr>\n",
       "    <tr>\n",
       "      <th>2</th>\n",
       "      <td>MilesDavis</td>\n",
       "      <td>Jazz</td>\n",
       "      <td>1500000</td>\n",
       "      <td>48000000.0</td>\n",
       "      <td>32.000000</td>\n",
       "    </tr>\n",
       "    <tr>\n",
       "      <th>3</th>\n",
       "      <td>SIA</td>\n",
       "      <td>Pop</td>\n",
       "      <td>2000000</td>\n",
       "      <td>74000000.0</td>\n",
       "      <td>37.000000</td>\n",
       "    </tr>\n",
       "  </tbody>\n",
       "</table>\n",
       "</div>"
      ],
      "text/plain": [
       "         Artists Genre  Listeners       Plays  Avg Plays\n",
       "0  BillieHoliday  Jazz    1300000  27000000.0  20.769231\n",
       "2     MilesDavis  Jazz    1500000  48000000.0  32.000000\n",
       "3            SIA   Pop    2000000  74000000.0  37.000000"
      ]
     },
     "execution_count": 39,
     "metadata": {},
     "output_type": "execute_result"
    }
   ],
   "source": [
    "df.dropna()"
   ]
  },
  {
   "cell_type": "markdown",
   "metadata": {},
   "source": [
    "## 그룹(group)\n",
    "특정 변수의 그룹값을 기준으로 `sum()`, `max()`, `min()` 등을 구할 수 있다."
   ]
  },
  {
   "cell_type": "code",
   "execution_count": 40,
   "metadata": {},
   "outputs": [
    {
     "data": {
      "text/html": [
       "<div>\n",
       "<table border=\"1\" class=\"dataframe\">\n",
       "  <thead>\n",
       "    <tr style=\"text-align: right;\">\n",
       "      <th></th>\n",
       "      <th>Listeners</th>\n",
       "      <th>Plays</th>\n",
       "      <th>Avg Plays</th>\n",
       "    </tr>\n",
       "    <tr>\n",
       "      <th>Genre</th>\n",
       "      <th></th>\n",
       "      <th></th>\n",
       "      <th></th>\n",
       "    </tr>\n",
       "  </thead>\n",
       "  <tbody>\n",
       "    <tr>\n",
       "      <th>Jazz</th>\n",
       "      <td>2800000</td>\n",
       "      <td>75000000.0</td>\n",
       "      <td>52.769231</td>\n",
       "    </tr>\n",
       "    <tr>\n",
       "      <th>Pop</th>\n",
       "      <td>2000000</td>\n",
       "      <td>74000000.0</td>\n",
       "      <td>37.000000</td>\n",
       "    </tr>\n",
       "    <tr>\n",
       "      <th>Rock</th>\n",
       "      <td>2700000</td>\n",
       "      <td>NaN</td>\n",
       "      <td>25.925926</td>\n",
       "    </tr>\n",
       "  </tbody>\n",
       "</table>\n",
       "</div>"
      ],
      "text/plain": [
       "       Listeners       Plays  Avg Plays\n",
       "Genre                                  \n",
       "Jazz     2800000  75000000.0  52.769231\n",
       "Pop      2000000  74000000.0  37.000000\n",
       "Rock     2700000         NaN  25.925926"
      ]
     },
     "execution_count": 40,
     "metadata": {},
     "output_type": "execute_result"
    }
   ],
   "source": [
    "df.groupby('Genre').sum()"
   ]
  },
  {
   "cell_type": "markdown",
   "metadata": {},
   "source": [
    "## 새로운 칼럼 생성"
   ]
  },
  {
   "cell_type": "code",
   "execution_count": 26,
   "metadata": {},
   "outputs": [],
   "source": [
    "df['Avg Plays'] = df['Plays'] / df['Listeners']"
   ]
  },
  {
   "cell_type": "markdown",
   "metadata": {},
   "source": [
    "# 판다스 사용자 정의함수\n",
    "\n",
    "## 판다스 데이터 가져오기\n",
    "\n",
    "[교통사고분석시스템 - 교통사고상세통계](http://taas.koroad.or.kr/web/shp/sbm/initUnityAnalsSys.do?menuId=WEB_KMP_OVT_UAS) 웹사이트에서 **경찰DB(국가공식통계)**를 통해 **OECD국가 교통사고 통계** 엑셀파일을 대상으로 작업을 수행한다.\n",
    "\n",
    "`traffic_df.columns`, `traffic_df.head()` 명령어로 데이터프레임과 친숙해진다."
   ]
  },
  {
   "cell_type": "code",
   "execution_count": 27,
   "metadata": {
    "scrolled": false
   },
   "outputs": [
    {
     "data": {
      "text/html": [
       "<div>\n",
       "<table border=\"1\" class=\"dataframe\">\n",
       "  <thead>\n",
       "    <tr style=\"text-align: right;\">\n",
       "      <th></th>\n",
       "      <th>국가</th>\n",
       "      <th>인구수(천명)</th>\n",
       "      <th>자동차등록대수(천대)</th>\n",
       "      <th>발생건수(건)</th>\n",
       "      <th>사망자수(명)</th>\n",
       "      <th>인구10만명당사망자수</th>\n",
       "      <th>자동차1만대당사망자수</th>\n",
       "      <th>자동차1만대당사망자순위</th>\n",
       "    </tr>\n",
       "  </thead>\n",
       "  <tbody>\n",
       "    <tr>\n",
       "      <th>0</th>\n",
       "      <td>호주</td>\n",
       "      <td>23786.123</td>\n",
       "      <td>18007.8</td>\n",
       "      <td>-</td>\n",
       "      <td>1205</td>\n",
       "      <td>5.1</td>\n",
       "      <td>0.7</td>\n",
       "      <td>14</td>\n",
       "    </tr>\n",
       "    <tr>\n",
       "      <th>1</th>\n",
       "      <td>독일</td>\n",
       "      <td>81197.537</td>\n",
       "      <td>55752</td>\n",
       "      <td>305659</td>\n",
       "      <td>3459</td>\n",
       "      <td>4.3</td>\n",
       "      <td>0.6</td>\n",
       "      <td>16</td>\n",
       "    </tr>\n",
       "    <tr>\n",
       "      <th>2</th>\n",
       "      <td>그리스</td>\n",
       "      <td>10858.018</td>\n",
       "      <td>9518</td>\n",
       "      <td>11440</td>\n",
       "      <td>793</td>\n",
       "      <td>7.3</td>\n",
       "      <td>0.8</td>\n",
       "      <td>10</td>\n",
       "    </tr>\n",
       "    <tr>\n",
       "      <th>3</th>\n",
       "      <td>헝가리</td>\n",
       "      <td>9855.571</td>\n",
       "      <td>3822</td>\n",
       "      <td>16331</td>\n",
       "      <td>644</td>\n",
       "      <td>6.5</td>\n",
       "      <td>1.7</td>\n",
       "      <td>2</td>\n",
       "    </tr>\n",
       "    <tr>\n",
       "      <th>4</th>\n",
       "      <td>아이슬란드</td>\n",
       "      <td>329.100</td>\n",
       "      <td>285</td>\n",
       "      <td>912</td>\n",
       "      <td>16</td>\n",
       "      <td>4.9</td>\n",
       "      <td>0.6</td>\n",
       "      <td>20</td>\n",
       "    </tr>\n",
       "  </tbody>\n",
       "</table>\n",
       "</div>"
      ],
      "text/plain": [
       "      국가    인구수(천명) 자동차등록대수(천대) 발생건수(건)  사망자수(명)  인구10만명당사망자수 자동차1만대당사망자수  \\\n",
       "0     호주  23786.123     18007.8       -     1205          5.1         0.7   \n",
       "1     독일  81197.537       55752  305659     3459          4.3         0.6   \n",
       "2    그리스  10858.018        9518   11440      793          7.3         0.8   \n",
       "3    헝가리   9855.571        3822   16331      644          6.5         1.7   \n",
       "4  아이슬란드    329.100         285     912       16          4.9         0.6   \n",
       "\n",
       "  자동차1만대당사망자순위  \n",
       "0           14  \n",
       "1           16  \n",
       "2           10  \n",
       "3            2  \n",
       "4           20  "
      ]
     },
     "execution_count": 27,
     "metadata": {},
     "output_type": "execute_result"
    }
   ],
   "source": [
    "import pandas as pd\n",
    "\n",
    "traffic_df = pd.read_excel(\"data/oecd_traffic_data_utf-8.xlsx\")\n",
    "\n",
    "traffic_df.columns\n",
    "\n",
    "traffic_df.head()"
   ]
  },
  {
   "cell_type": "markdown",
   "metadata": {},
   "source": [
    "## 사용자 정의 함수 사용 - `range()`\n",
    "\n",
    "`calc_death_percentage(사망자수, 인구수_천명)` 함수를 정의해서 소수점 아래 1자리로 인구 천명당 사망자수를 산출한다.\n",
    "예를 들어, 2015년 독일 인구 81,197,537에 대한 사망자수는 3,459명으로 천명당 4.3명이 나온다."
   ]
  },
  {
   "cell_type": "code",
   "execution_count": 28,
   "metadata": {},
   "outputs": [
    {
     "data": {
      "text/plain": [
       "4.3"
      ]
     },
     "execution_count": 28,
     "metadata": {},
     "output_type": "execute_result"
    }
   ],
   "source": [
    "import numpy as np\n",
    "\n",
    "def calc_death_percentage(death, population):\n",
    "    death_perc = death / population * 100\n",
    "    return np.round(death_perc, 1)\n",
    "\n",
    "calc_death_percentage(3459, 81197.537)"
   ]
  },
  {
   "cell_type": "markdown",
   "metadata": {},
   "source": [
    "OECD 전체 국가에 대해서 천명당 사망자수를 계산해보자.\n",
    "이를 위해서 별도 리스트(`death_perc_list`)를 `for` 루프 외곽에 준비하고 \n",
    "`iloc` 메쏘드를 통해 행을 하나 뽑아내고 각 행별로 뽑아 `calc_death_percentage(death, population)` 연산작업을 수행한다. 그렇게 채워진 `death_perc_list` 리스트를 데이터프레임에 결합시킨다.\n"
   ]
  },
  {
   "cell_type": "code",
   "execution_count": 29,
   "metadata": {
    "scrolled": true
   },
   "outputs": [
    {
     "data": {
      "text/html": [
       "<div>\n",
       "<table border=\"1\" class=\"dataframe\">\n",
       "  <thead>\n",
       "    <tr style=\"text-align: right;\">\n",
       "      <th></th>\n",
       "      <th>국가</th>\n",
       "      <th>사망자수(명)</th>\n",
       "      <th>인구수(천명)</th>\n",
       "      <th>사망자_비율(천명)</th>\n",
       "    </tr>\n",
       "  </thead>\n",
       "  <tbody>\n",
       "    <tr>\n",
       "      <th>0</th>\n",
       "      <td>호주</td>\n",
       "      <td>1205</td>\n",
       "      <td>23786.123</td>\n",
       "      <td>5.1</td>\n",
       "    </tr>\n",
       "    <tr>\n",
       "      <th>1</th>\n",
       "      <td>독일</td>\n",
       "      <td>3459</td>\n",
       "      <td>81197.537</td>\n",
       "      <td>4.3</td>\n",
       "    </tr>\n",
       "    <tr>\n",
       "      <th>2</th>\n",
       "      <td>그리스</td>\n",
       "      <td>793</td>\n",
       "      <td>10858.018</td>\n",
       "      <td>7.3</td>\n",
       "    </tr>\n",
       "    <tr>\n",
       "      <th>3</th>\n",
       "      <td>헝가리</td>\n",
       "      <td>644</td>\n",
       "      <td>9855.571</td>\n",
       "      <td>6.5</td>\n",
       "    </tr>\n",
       "    <tr>\n",
       "      <th>4</th>\n",
       "      <td>아이슬란드</td>\n",
       "      <td>16</td>\n",
       "      <td>329.100</td>\n",
       "      <td>4.9</td>\n",
       "    </tr>\n",
       "  </tbody>\n",
       "</table>\n",
       "</div>"
      ],
      "text/plain": [
       "      국가  사망자수(명)    인구수(천명)  사망자_비율(천명)\n",
       "0     호주     1205  23786.123         5.1\n",
       "1     독일     3459  81197.537         4.3\n",
       "2    그리스      793  10858.018         7.3\n",
       "3    헝가리      644   9855.571         6.5\n",
       "4  아이슬란드       16    329.100         4.9"
      ]
     },
     "execution_count": 29,
     "metadata": {},
     "output_type": "execute_result"
    }
   ],
   "source": [
    "death_perc_list = []\n",
    "\n",
    "for row in range(len(traffic_df)):\n",
    "    record = traffic_df.iloc[row]\n",
    "    death = record['사망자수(명)']\n",
    "    population = record['인구수(천명)']\n",
    "    death_perc = calc_death_percentage(death, population)\n",
    "    death_perc_list.append(death_perc)\n",
    "    \n",
    "traffic_df['사망자_비율(천명)'] = death_perc_list\n",
    "\n",
    "traffic_df[['국가', '사망자수(명)', '인구수(천명)', '사망자_비율(천명)']].head()"
   ]
  },
  {
   "cell_type": "markdown",
   "metadata": {},
   "source": [
    "## 함수 사용 - `iterrows()`\n",
    "\n",
    "앞선 코드와 동일하지만, 데이터프레임  `iterrows()` 메쏘드를 사용할 경우 속도가 두배이상 빠르게 실행된다.\n",
    "`record = traffic_df.iloc[row]` 행의 `.iloc`를 제거할 수 있어 코드도 간결해진다.\n",
    "`.itertuples()`는 동일한 기능을 구현하지만, 다소 속도가 빠르다.\n"
   ]
  },
  {
   "cell_type": "code",
   "execution_count": 30,
   "metadata": {},
   "outputs": [
    {
     "data": {
      "text/html": [
       "<div>\n",
       "<table border=\"1\" class=\"dataframe\">\n",
       "  <thead>\n",
       "    <tr style=\"text-align: right;\">\n",
       "      <th></th>\n",
       "      <th>국가</th>\n",
       "      <th>사망자수(명)</th>\n",
       "      <th>인구수(천명)</th>\n",
       "      <th>사망자_비율(천명)</th>\n",
       "    </tr>\n",
       "  </thead>\n",
       "  <tbody>\n",
       "    <tr>\n",
       "      <th>0</th>\n",
       "      <td>호주</td>\n",
       "      <td>1205</td>\n",
       "      <td>23786.123</td>\n",
       "      <td>5.4</td>\n",
       "    </tr>\n",
       "    <tr>\n",
       "      <th>1</th>\n",
       "      <td>독일</td>\n",
       "      <td>3459</td>\n",
       "      <td>81197.537</td>\n",
       "      <td>5.4</td>\n",
       "    </tr>\n",
       "    <tr>\n",
       "      <th>2</th>\n",
       "      <td>그리스</td>\n",
       "      <td>793</td>\n",
       "      <td>10858.018</td>\n",
       "      <td>5.4</td>\n",
       "    </tr>\n",
       "    <tr>\n",
       "      <th>3</th>\n",
       "      <td>헝가리</td>\n",
       "      <td>644</td>\n",
       "      <td>9855.571</td>\n",
       "      <td>5.4</td>\n",
       "    </tr>\n",
       "    <tr>\n",
       "      <th>4</th>\n",
       "      <td>아이슬란드</td>\n",
       "      <td>16</td>\n",
       "      <td>329.100</td>\n",
       "      <td>5.4</td>\n",
       "    </tr>\n",
       "  </tbody>\n",
       "</table>\n",
       "</div>"
      ],
      "text/plain": [
       "      국가  사망자수(명)    인구수(천명)  사망자_비율(천명)\n",
       "0     호주     1205  23786.123         5.4\n",
       "1     독일     3459  81197.537         5.4\n",
       "2    그리스      793  10858.018         5.4\n",
       "3    헝가리      644   9855.571         5.4\n",
       "4  아이슬란드       16    329.100         5.4"
      ]
     },
     "execution_count": 30,
     "metadata": {},
     "output_type": "execute_result"
    }
   ],
   "source": [
    "death_perc_list = []\n",
    "\n",
    "for row in traffic_df.iterrows():\n",
    "\n",
    "    death = record['사망자수(명)']\n",
    "    population = record['인구수(천명)']\n",
    "    \n",
    "    death_perc = calc_death_percentage(death, population)\n",
    "    death_perc_list.append(death_perc)\n",
    "    \n",
    "traffic_df['사망자_비율(천명)'] = death_perc_list\n",
    "\n",
    "traffic_df[['국가', '사망자수(명)', '인구수(천명)', '사망자_비율(천명)']].head()"
   ]
  },
  {
   "cell_type": "markdown",
   "metadata": {},
   "source": [
    "## `.apply()` 메쏘드\n",
    "\n",
    "동일한 작업을 `.apply()` 메쏘드를 사용하게 되면 한결 간결하게 코드를 작성할 수 있고, 속도도 더 빠르다."
   ]
  },
  {
   "cell_type": "code",
   "execution_count": 31,
   "metadata": {
    "scrolled": true
   },
   "outputs": [
    {
     "data": {
      "text/html": [
       "<div>\n",
       "<table border=\"1\" class=\"dataframe\">\n",
       "  <thead>\n",
       "    <tr style=\"text-align: right;\">\n",
       "      <th></th>\n",
       "      <th>국가</th>\n",
       "      <th>사망자수(명)</th>\n",
       "      <th>인구수(천명)</th>\n",
       "      <th>사망자_비율(천명)</th>\n",
       "    </tr>\n",
       "  </thead>\n",
       "  <tbody>\n",
       "    <tr>\n",
       "      <th>0</th>\n",
       "      <td>호주</td>\n",
       "      <td>1205</td>\n",
       "      <td>23786.123</td>\n",
       "      <td>5.4</td>\n",
       "    </tr>\n",
       "    <tr>\n",
       "      <th>1</th>\n",
       "      <td>독일</td>\n",
       "      <td>3459</td>\n",
       "      <td>81197.537</td>\n",
       "      <td>5.4</td>\n",
       "    </tr>\n",
       "    <tr>\n",
       "      <th>2</th>\n",
       "      <td>그리스</td>\n",
       "      <td>793</td>\n",
       "      <td>10858.018</td>\n",
       "      <td>5.4</td>\n",
       "    </tr>\n",
       "    <tr>\n",
       "      <th>3</th>\n",
       "      <td>헝가리</td>\n",
       "      <td>644</td>\n",
       "      <td>9855.571</td>\n",
       "      <td>5.4</td>\n",
       "    </tr>\n",
       "    <tr>\n",
       "      <th>4</th>\n",
       "      <td>아이슬란드</td>\n",
       "      <td>16</td>\n",
       "      <td>329.100</td>\n",
       "      <td>5.4</td>\n",
       "    </tr>\n",
       "  </tbody>\n",
       "</table>\n",
       "</div>"
      ],
      "text/plain": [
       "      국가  사망자수(명)    인구수(천명)  사망자_비율(천명)\n",
       "0     호주     1205  23786.123         5.4\n",
       "1     독일     3459  81197.537         5.4\n",
       "2    그리스      793  10858.018         5.4\n",
       "3    헝가리      644   9855.571         5.4\n",
       "4  아이슬란드       16    329.100         5.4"
      ]
     },
     "execution_count": 31,
     "metadata": {},
     "output_type": "execute_result"
    }
   ],
   "source": [
    "death_perc_apply = traffic_df.apply(lambda row: \n",
    "                                    calc_death_percentage(row['사망자수(명)'], row['인구수(천명)']),\n",
    "                                    axis=1)\n",
    "\n",
    "traffic_df['사망자_비율(천명)'] = death_perc_list\n",
    "\n",
    "traffic_df[['국가', '사망자수(명)', '인구수(천명)', '사망자_비율(천명)']].head()"
   ]
  }
 ],
 "metadata": {
  "kernelspec": {
   "display_name": "Python 3",
   "language": "python",
   "name": "python3"
  },
  "language_info": {
   "codemirror_mode": {
    "name": "ipython",
    "version": 3
   },
   "file_extension": ".py",
   "mimetype": "text/x-python",
   "name": "python",
   "nbconvert_exporter": "python",
   "pygments_lexer": "ipython3",
   "version": "3.6.7"
  },
  "toc": {
   "base_numbering": 1,
   "nav_menu": {},
   "number_sections": true,
   "sideBar": true,
   "skip_h1_title": false,
   "title_cell": "Table of Contents",
   "title_sidebar": "Contents",
   "toc_cell": false,
   "toc_position": {},
   "toc_section_display": true,
   "toc_window_display": false
  }
 },
 "nbformat": 4,
 "nbformat_minor": 2
}